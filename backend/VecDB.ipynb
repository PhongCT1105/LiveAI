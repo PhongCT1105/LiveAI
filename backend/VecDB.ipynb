{
 "cells": [
  {
   "cell_type": "code",
   "execution_count": 4,
   "metadata": {},
   "outputs": [],
   "source": [
    "import os\n",
    "from pinecone import Pinecone, ServerlessSpec\n",
    "from dotenv import load_dotenv\n",
    "import pandas as pd\n",
    "import numpy as np\n"
   ]
  },
  {
   "cell_type": "code",
   "execution_count": 5,
   "metadata": {},
   "outputs": [],
   "source": [
    "load_dotenv()\n",
    "\n",
    "APIKEY = os.getenv(\"PINECONE_API_KEY\")\n",
    "\n",
    "pc = Pinecone(api_key=APIKEY)\n"
   ]
  },
  {
   "cell_type": "code",
   "execution_count": null,
   "metadata": {},
   "outputs": [],
   "source": [
    "index_name = \"live-ai\"\n",
    "\n",
    "pc.create_index(\n",
    "    name=index_name,\n",
    "    dimension=1024,\n",
    "    metric=\"cosine\",\n",
    "    spec=ServerlessSpec(\n",
    "        cloud=\"aws\",\n",
    "        region=\"us-east-1\"  # Must be a valid region for Pinecone serverless\n",
    "    )\n",
    ")\n"
   ]
  },
  {
   "cell_type": "code",
   "execution_count": 7,
   "metadata": {},
   "outputs": [],
   "source": [
    "index = pc.Index(index_name)"
   ]
  },
  {
   "cell_type": "code",
   "execution_count": 8,
   "metadata": {},
   "outputs": [],
   "source": [
    "df = pd.read_csv(\"recipes_with_descriptions.csv\")"
   ]
  },
  {
   "cell_type": "code",
   "execution_count": 9,
   "metadata": {},
   "outputs": [
    {
     "data": {
      "text/html": [
       "<div>\n",
       "<style scoped>\n",
       "    .dataframe tbody tr th:only-of-type {\n",
       "        vertical-align: middle;\n",
       "    }\n",
       "\n",
       "    .dataframe tbody tr th {\n",
       "        vertical-align: top;\n",
       "    }\n",
       "\n",
       "    .dataframe thead th {\n",
       "        text-align: right;\n",
       "    }\n",
       "</style>\n",
       "<table border=\"1\" class=\"dataframe\">\n",
       "  <thead>\n",
       "    <tr style=\"text-align: right;\">\n",
       "      <th></th>\n",
       "      <th>Unnamed: 0</th>\n",
       "      <th>Title</th>\n",
       "      <th>Ingredients</th>\n",
       "      <th>Instructions</th>\n",
       "      <th>Image_Name</th>\n",
       "      <th>Cleaned_Ingredients</th>\n",
       "      <th>description</th>\n",
       "    </tr>\n",
       "  </thead>\n",
       "  <tbody>\n",
       "    <tr>\n",
       "      <th>0</th>\n",
       "      <td>7354</td>\n",
       "      <td>Apple-Frangipane Galette</td>\n",
       "      <td>['6 medium apples (3 pounds/1.5 kg)', 'Galette...</td>\n",
       "      <td>Preheat the oven to 375°F (190°C). Line a baki...</td>\n",
       "      <td>apple-frangipane-galette-363437</td>\n",
       "      <td>['6 medium apples (3 pounds/1.5 kg)', 'Galette...</td>\n",
       "      <td>Apple-Frangipane Galette is a rustic yet elega...</td>\n",
       "    </tr>\n",
       "    <tr>\n",
       "      <th>1</th>\n",
       "      <td>1049</td>\n",
       "      <td>Eggplant Omelet (Tortang Talong)</td>\n",
       "      <td>['2 large Asian eggplants (about 1/3 pound/155...</td>\n",
       "      <td>Preheat the broiler.\\nLay the eggplants in a s...</td>\n",
       "      <td>eggplant-omelet-tortang-talong</td>\n",
       "      <td>['2 large Asian eggplants (about 1/3 pound/155...</td>\n",
       "      <td>Eggplant Omelet (Tortang Talong) is a bold, sa...</td>\n",
       "    </tr>\n",
       "    <tr>\n",
       "      <th>2</th>\n",
       "      <td>6989</td>\n",
       "      <td>Blue Cheese Dip</td>\n",
       "      <td>['Kosher salt', '1 garlic clove, coarsely chop...</td>\n",
       "      <td>Sprinkle salt over garlic and chop, occasional...</td>\n",
       "      <td>blue-cheese-dip-366409</td>\n",
       "      <td>['Kosher salt', '1 garlic clove, coarsely chop...</td>\n",
       "      <td>Blue Cheese Dip is a bold, tangy, and creamy c...</td>\n",
       "    </tr>\n",
       "    <tr>\n",
       "      <th>3</th>\n",
       "      <td>243</td>\n",
       "      <td>Hawaij</td>\n",
       "      <td>['2 1/4 teaspoons black peppercorns', '7 teasp...</td>\n",
       "      <td>Finely grind peppercorns and seeds in grinder,...</td>\n",
       "      <td>hawaij</td>\n",
       "      <td>['2 1/4 teaspoons black peppercorns', '7 teasp...</td>\n",
       "      <td>Hawaij is a traditional Yemeni spice blend bur...</td>\n",
       "    </tr>\n",
       "    <tr>\n",
       "      <th>4</th>\n",
       "      <td>12825</td>\n",
       "      <td>Spiced Fritters with Maple-Vanilla Syrup</td>\n",
       "      <td>['2 cups pure maple syrup', '1 cinnamon stick'...</td>\n",
       "      <td>Combine maple syrup and cinnamon stick in medi...</td>\n",
       "      <td>spiced-fritters-with-maple-vanilla-syrup-231315</td>\n",
       "      <td>['2 cups pure maple syrup', '1 cinnamon stick'...</td>\n",
       "      <td>Spiced Fritters with Maple-Vanilla Syrup is a ...</td>\n",
       "    </tr>\n",
       "  </tbody>\n",
       "</table>\n",
       "</div>"
      ],
      "text/plain": [
       "   Unnamed: 0                                     Title  \\\n",
       "0        7354                  Apple-Frangipane Galette   \n",
       "1        1049          Eggplant Omelet (Tortang Talong)   \n",
       "2        6989                           Blue Cheese Dip   \n",
       "3         243                                    Hawaij   \n",
       "4       12825  Spiced Fritters with Maple-Vanilla Syrup   \n",
       "\n",
       "                                         Ingredients  \\\n",
       "0  ['6 medium apples (3 pounds/1.5 kg)', 'Galette...   \n",
       "1  ['2 large Asian eggplants (about 1/3 pound/155...   \n",
       "2  ['Kosher salt', '1 garlic clove, coarsely chop...   \n",
       "3  ['2 1/4 teaspoons black peppercorns', '7 teasp...   \n",
       "4  ['2 cups pure maple syrup', '1 cinnamon stick'...   \n",
       "\n",
       "                                        Instructions  \\\n",
       "0  Preheat the oven to 375°F (190°C). Line a baki...   \n",
       "1  Preheat the broiler.\\nLay the eggplants in a s...   \n",
       "2  Sprinkle salt over garlic and chop, occasional...   \n",
       "3  Finely grind peppercorns and seeds in grinder,...   \n",
       "4  Combine maple syrup and cinnamon stick in medi...   \n",
       "\n",
       "                                        Image_Name  \\\n",
       "0                  apple-frangipane-galette-363437   \n",
       "1                   eggplant-omelet-tortang-talong   \n",
       "2                           blue-cheese-dip-366409   \n",
       "3                                           hawaij   \n",
       "4  spiced-fritters-with-maple-vanilla-syrup-231315   \n",
       "\n",
       "                                 Cleaned_Ingredients  \\\n",
       "0  ['6 medium apples (3 pounds/1.5 kg)', 'Galette...   \n",
       "1  ['2 large Asian eggplants (about 1/3 pound/155...   \n",
       "2  ['Kosher salt', '1 garlic clove, coarsely chop...   \n",
       "3  ['2 1/4 teaspoons black peppercorns', '7 teasp...   \n",
       "4  ['2 cups pure maple syrup', '1 cinnamon stick'...   \n",
       "\n",
       "                                         description  \n",
       "0  Apple-Frangipane Galette is a rustic yet elega...  \n",
       "1  Eggplant Omelet (Tortang Talong) is a bold, sa...  \n",
       "2  Blue Cheese Dip is a bold, tangy, and creamy c...  \n",
       "3  Hawaij is a traditional Yemeni spice blend bur...  \n",
       "4  Spiced Fritters with Maple-Vanilla Syrup is a ...  "
      ]
     },
     "execution_count": 9,
     "metadata": {},
     "output_type": "execute_result"
    }
   ],
   "source": [
    "df.head()"
   ]
  },
  {
   "cell_type": "code",
   "execution_count": 10,
   "metadata": {},
   "outputs": [],
   "source": [
    "data = []\n",
    "for i, row in df.iterrows():\n",
    "    vector_id=str(row[\"Unnamed: 0\"]) if \"Unamed: 0\" in df.columns else str(i)\n",
    "    metadata={\n",
    "        \"title\": row[\"Title\"],\n",
    "        \"ingredients\": row[\"Ingredients\"],\n",
    "        \"instructions\": row[\"Instructions\"],\n",
    "        \"image_name\": row[\"Image_Name\"],\n",
    "        \"cleaned_ingredients\": row[\"Cleaned_Ingredients\"],\n",
    "        \"description\": row[\"description\"]\n",
    "    }\n",
    "    data.append({\n",
    "        \"id\": vector_id,\n",
    "        \"text\": row[\"description\"],\n",
    "        \"metadata\": metadata\n",
    "    })"
   ]
  },
  {
   "cell_type": "code",
   "execution_count": 11,
   "metadata": {},
   "outputs": [],
   "source": [
    "embeddings = pc.inference.embed(\n",
    "    model=\"multilingual-e5-large\",\n",
    "    inputs=[d[\"text\"] for d in data],\n",
    "    parameters={\"input_type\": \"passage\", \"truncate\": \"END\"}\n",
    ")"
   ]
  },
  {
   "cell_type": "code",
   "execution_count": 12,
   "metadata": {},
   "outputs": [
    {
     "name": "stdout",
     "output_type": "stream",
     "text": [
      "Upsert response: {'upserted_count': 50}\n"
     ]
    }
   ],
   "source": [
    "vectors = []\n",
    "for i, d in enumerate(data):\n",
    "    vector_id = d[\"id\"]\n",
    "    vector_embedding = embeddings[i][\"values\"]\n",
    "    metadata = d[\"metadata\"]\n",
    "    vectors.append((vector_id, vector_embedding, metadata))\n",
    "\n",
    "upsert_response = index.upsert(vectors=vectors, namespace=\"live-ai-namespace\")\n",
    "print(\"Upsert response:\", upsert_response)\n"
   ]
  },
  {
   "cell_type": "code",
   "execution_count": null,
   "metadata": {},
   "outputs": [],
   "source": [
    "# Making a query\n",
    "def get_results(query):\n",
    "\n",
    "    # Embed the query using the multilingual-e5-large model\n",
    "    query_embedding = pc.inference.embed(\n",
    "        model=\"multilingual-e5-large\",\n",
    "        inputs=[query],\n",
    "        parameters={\"input_type\": \"query\"}\n",
    "    )\n",
    "\n",
    "    # Query the index using the embedding\n",
    "    results = index.query(\n",
    "        namespace=\"live-ai-namespace\",\n",
    "        vector=query_embedding[0].values,\n",
    "        top_k=3,\n",
    "        include_values=False,\n",
    "        include_metadata=True\n",
    "    )\n",
    "    return results\n"
   ]
  }
 ],
 "metadata": {
  "kernelspec": {
   "display_name": "liveAI",
   "language": "python",
   "name": "python3"
  },
  "language_info": {
   "codemirror_mode": {
    "name": "ipython",
    "version": 3
   },
   "file_extension": ".py",
   "mimetype": "text/x-python",
   "name": "python",
   "nbconvert_exporter": "python",
   "pygments_lexer": "ipython3",
   "version": "3.9.21"
  }
 },
 "nbformat": 4,
 "nbformat_minor": 2
}

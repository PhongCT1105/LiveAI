{
 "cells": [
  {
   "cell_type": "code",
   "execution_count": 1,
   "metadata": {},
   "outputs": [],
   "source": [
    "import spacy\n",
    "import pandas as pd\n",
    "import regex as re"
   ]
  },
  {
   "cell_type": "code",
   "execution_count": 2,
   "metadata": {},
   "outputs": [],
   "source": [
    "nlp = spacy.load(\"en_core_web_sm\")"
   ]
  },
  {
   "cell_type": "code",
   "execution_count": 3,
   "metadata": {},
   "outputs": [],
   "source": [
    "def standardize_ingredient_spacy(ingredient):\n",
    "    \"\"\"\n",
    "    Standardize an ingredient by extracting its head noun using spaCy.\n",
    "    Returns the lemma (base form) of the first noun found.\n",
    "    \"\"\"\n",
    "    doc = nlp(ingredient)\n",
    "    for token in doc:\n",
    "        if token.pos_ == \"NOUN\":\n",
    "            return token.lemma_.lower()\n",
    "    return ingredient.lower()\n",
    "\n",
    "def standardize_ingredients_list(ingredients):\n",
    "    \"\"\"\n",
    "    Given a list of ingredient strings, standardize each one.\n",
    "    \"\"\"\n",
    "    return [standardize_ingredient_spacy(ing) for ing in ingredients]"
   ]
  },
  {
   "cell_type": "code",
   "execution_count": 4,
   "metadata": {},
   "outputs": [],
   "source": [
    "def parse_ingredients(cell):\n",
    "    \"\"\"\n",
    "    Given a string that looks like a list, e.g.\n",
    "    \"['6 medium apples (3 pounds/1.5 kg)', 'Galette...']\",\n",
    "    extract and return a list of ingredient strings.\n",
    "    \"\"\"\n",
    "    # Remove leading and trailing whitespace\n",
    "    cell = cell.strip()\n",
    "    \n",
    "    # Optionally remove outer brackets if present\n",
    "    if cell.startswith('[') and cell.endswith(']'):\n",
    "        cell = cell[1:-1]\n",
    "    \n",
    "    # Use regex to extract substrings between single quotes\n",
    "    # This pattern will extract text within single quotes.\n",
    "    ingredients = re.findall(r\"'([^']+)'\", cell)\n",
    "    return ingredients\n"
   ]
  },
  {
   "cell_type": "code",
   "execution_count": 5,
   "metadata": {},
   "outputs": [],
   "source": [
    "def convert_and_standardize(cell):\n",
    "    \"\"\"\n",
    "    Parse the string cell to extract ingredients and standardize each.\n",
    "    \"\"\"\n",
    "    ingredients = parse_ingredients(cell)\n",
    "    \n",
    "    # Debug print to check the parsing result\n",
    "    print(\"Original cell:\", cell)\n",
    "    print(\"Parsed ingredients:\", ingredients)\n",
    "    \n",
    "    return standardize_ingredients_list(ingredients)\n"
   ]
  },
  {
   "cell_type": "code",
   "execution_count": 6,
   "metadata": {},
   "outputs": [],
   "source": [
    "df = pd.read_csv(\"recipes_with_descriptions.csv\")"
   ]
  },
  {
   "cell_type": "code",
   "execution_count": 7,
   "metadata": {},
   "outputs": [
    {
     "name": "stdout",
     "output_type": "stream",
     "text": [
      "Original cell: ['6 medium apples (3 pounds/1.5 kg)', 'Galette dough (page 231)', 'Frangipane (page 234)', '2 tablespoons (1 ounce/30 g) unsalted or salted butter, melted', '4 tablespoons (60 g) granulated or coarse-crystal sugar']\n",
      "Parsed ingredients: ['6 medium apples (3 pounds/1.5 kg)', 'Galette dough (page 231)', 'Frangipane (page 234)', '2 tablespoons (1 ounce/30 g) unsalted or salted butter, melted', '4 tablespoons (60 g) granulated or coarse-crystal sugar']\n",
      "Original cell: ['2 large Asian eggplants (about 1/3 pound/155 g each)', '2 extra-large eggs', 'Kosher salt and freshly ground black pepper', '3 tablespoons vegetable oil', '2 tablespoons picked cooked crabmeat (optional)', 'Fish sauce, for serving']\n",
      "Parsed ingredients: ['2 large Asian eggplants (about 1/3 pound/155 g each)', '2 extra-large eggs', 'Kosher salt and freshly ground black pepper', '3 tablespoons vegetable oil', '2 tablespoons picked cooked crabmeat (optional)', 'Fish sauce, for serving']\n",
      "Original cell: ['Kosher salt', '1 garlic clove, coarsely chopped', '2 1/2 teaspoon red wine vinegar', '1 teaspoon finely chopped fresh thyme', '1/2 pound smoked (or regular) blue cheese, crumbled', '1 cup sour cream', '2/3 cup mayonnaise', 'Freshly ground black pepper', 'Assorted fresh vegetables for dipping (such as baby carrots', 'green beans', 'and endive leaves)']\n",
      "Parsed ingredients: ['Kosher salt', '1 garlic clove, coarsely chopped', '2 1/2 teaspoon red wine vinegar', '1 teaspoon finely chopped fresh thyme', '1/2 pound smoked (or regular) blue cheese, crumbled', '1 cup sour cream', '2/3 cup mayonnaise', 'Freshly ground black pepper', 'Assorted fresh vegetables for dipping (such as baby carrots', 'green beans', 'and endive leaves)']\n",
      "Original cell: ['2 1/4 teaspoons black peppercorns', '7 teaspoons cumin seeds', '2 1/4 teaspoons cardamom seeds (from green cardamom pods)', '2 1/4 teaspoons coriander seeds', '2 tablespoons ground turmeric', 'Special Equipment: an electric coffee/spice grinder']\n",
      "Parsed ingredients: ['2 1/4 teaspoons black peppercorns', '7 teaspoons cumin seeds', '2 1/4 teaspoons cardamom seeds (from green cardamom pods)', '2 1/4 teaspoons coriander seeds', '2 tablespoons ground turmeric', 'Special Equipment: an electric coffee/spice grinder']\n",
      "Original cell: ['2 cups pure maple syrup', '1 cinnamon stick', '1 vanilla bean, split lengthwise', '2 1/2 cups unbleached all purpose flour', '1/2 cup sugar', '2 teaspoons baking powder', '1 teaspoon baking soda', '1 teaspoon ground allspice', '1/2 teaspoon ground mace', '1/2 teaspoon salt', '2 cups vanilla-flavored soy yogurt', '2 large eggs', '4 teaspoons brandy', 'Canola oil (for frying)', 'Powdered sugar']\n",
      "Parsed ingredients: ['2 cups pure maple syrup', '1 cinnamon stick', '1 vanilla bean, split lengthwise', '2 1/2 cups unbleached all purpose flour', '1/2 cup sugar', '2 teaspoons baking powder', '1 teaspoon baking soda', '1 teaspoon ground allspice', '1/2 teaspoon ground mace', '1/2 teaspoon salt', '2 cups vanilla-flavored soy yogurt', '2 large eggs', '4 teaspoons brandy', 'Canola oil (for frying)', 'Powdered sugar']\n",
      "Original cell: ['6 tablespoons Dijon mustard', '2 tablespoons honey', '1 tablespoon mayonnaise', '4 fully cooked sun-dried-tomato chicken sausages, each cut into 6 pieces', '24 mini bell peppers', 'Olive oil', 'Metal skewers']\n",
      "Parsed ingredients: ['6 tablespoons Dijon mustard', '2 tablespoons honey', '1 tablespoon mayonnaise', '4 fully cooked sun-dried-tomato chicken sausages, each cut into 6 pieces', '24 mini bell peppers', 'Olive oil', 'Metal skewers']\n",
      "Original cell: ['3 cups all purpose flour', '1 tablespoon baking powder', '1 teaspoon salt', '1/2 cup (1 stick) unsalted butter, room temperature', '2 tablespoons non-hydrogenated solid vegetable shortening, room temperature', '2 cups pure maple syrup (preferably Grade B)', '3 large egg yolks', '1 large egg', '1 1/4 cups whole milk', '1 cup walnuts, toasted, coarsely chopped', '3 cups powdered sugar', '1 8-ounce package cream cheese, room temperature', '1/2 cup (1 stick) unsalted butter, room temperature', '2 tablespoons pure maple syrup (preferably Grade B)', 'Toasted walnut halves (for garnish)', 'Two 8-inch-diameter cake pans with 2-inch-high sides']\n",
      "Parsed ingredients: ['3 cups all purpose flour', '1 tablespoon baking powder', '1 teaspoon salt', '1/2 cup (1 stick) unsalted butter, room temperature', '2 tablespoons non-hydrogenated solid vegetable shortening, room temperature', '2 cups pure maple syrup (preferably Grade B)', '3 large egg yolks', '1 large egg', '1 1/4 cups whole milk', '1 cup walnuts, toasted, coarsely chopped', '3 cups powdered sugar', '1 8-ounce package cream cheese, room temperature', '1/2 cup (1 stick) unsalted butter, room temperature', '2 tablespoons pure maple syrup (preferably Grade B)', 'Toasted walnut halves (for garnish)', 'Two 8-inch-diameter cake pans with 2-inch-high sides']\n",
      "Original cell: ['1 small tomato', '1 small onion, finely chopped (1/2 cup)', '2 tablespoons unsalted butter', '1/8 teaspoon salt', '2 large white mushrooms, finely chopped (1/4 cup)', '1 tablespoon all-purpose flour', '1/4 cup plus 2 tablespoons reduced-sodium chicken broth', '1 1/4 cups finely chopped cooked turkey', '1 tablespoon chopped fresh flat-leaf parsley', '3/4 cup water', '3/4 stick (6 tablespoons) cold unsalted butter, cut into small pieces', '1/2 teaspoon salt', '3/4 cup all-purpose flour, sifted after measuring', '4 large eggs, at room temperature for 30 minutes', '3 oz Swiss cheese, cut into 1/4-inch dice (about 3/4 cup)', '2 tablespoons finely grated Parmigiano-Reggiano (using a Microplane rasp)', '1/2 teaspoon dry mustard powder']\n",
      "Parsed ingredients: ['1 small tomato', '1 small onion, finely chopped (1/2 cup)', '2 tablespoons unsalted butter', '1/8 teaspoon salt', '2 large white mushrooms, finely chopped (1/4 cup)', '1 tablespoon all-purpose flour', '1/4 cup plus 2 tablespoons reduced-sodium chicken broth', '1 1/4 cups finely chopped cooked turkey', '1 tablespoon chopped fresh flat-leaf parsley', '3/4 cup water', '3/4 stick (6 tablespoons) cold unsalted butter, cut into small pieces', '1/2 teaspoon salt', '3/4 cup all-purpose flour, sifted after measuring', '4 large eggs, at room temperature for 30 minutes', '3 oz Swiss cheese, cut into 1/4-inch dice (about 3/4 cup)', '2 tablespoons finely grated Parmigiano-Reggiano (using a Microplane rasp)', '1/2 teaspoon dry mustard powder']\n",
      "Original cell: ['2 cups basic tomato sauce', '1 cup dry red wine', '12 caper berries', '12 gaeta olives', '1 teaspoon hot red pepper flakes', '2 pounds eel, (from the sea or river), skinned and gutted by your fishmonger, rinsed, patted dry, and cut into 4-inch-long pieces', 'Salt and freshly ground black pepper', '2 tablespoons chopped fennel fronds']\n",
      "Parsed ingredients: ['2 cups basic tomato sauce', '1 cup dry red wine', '12 caper berries', '12 gaeta olives', '1 teaspoon hot red pepper flakes', '2 pounds eel, (from the sea or river), skinned and gutted by your fishmonger, rinsed, patted dry, and cut into 4-inch-long pieces', 'Salt and freshly ground black pepper', '2 tablespoons chopped fennel fronds']\n",
      "Original cell: ['2 pounds country-style spareribs (or pork shoulder, cut into 1-inch-thick slices)', '2 medium onions, peeled and chopped', '2 garlic cloves, minced, plus 1 whole clove', '2 whole sprigs fresh thyme, plus 2 tablespoons thyme leaves', '1 pound bacon (slab is best), cut into 2-inch pieces', '1 large stalk celery, chopped', '1/2 medium carrot, peeled and chopped', 'Kosher salt and freshly ground black pepper to taste', '4 cups chicken broth', '1 cup white wine', '1 (14-ounce) can diced tomatoes, with their juice', '2 bay leaves', '2 (14-ounce) cans white beans, drained and rinsed', '2 tablespoons olive oil', '1 cup coarse bread crumbs', '2 tablespoons chopped parsley']\n",
      "Parsed ingredients: ['2 pounds country-style spareribs (or pork shoulder, cut into 1-inch-thick slices)', '2 medium onions, peeled and chopped', '2 garlic cloves, minced, plus 1 whole clove', '2 whole sprigs fresh thyme, plus 2 tablespoons thyme leaves', '1 pound bacon (slab is best), cut into 2-inch pieces', '1 large stalk celery, chopped', '1/2 medium carrot, peeled and chopped', 'Kosher salt and freshly ground black pepper to taste', '4 cups chicken broth', '1 cup white wine', '1 (14-ounce) can diced tomatoes, with their juice', '2 bay leaves', '2 (14-ounce) cans white beans, drained and rinsed', '2 tablespoons olive oil', '1 cup coarse bread crumbs', '2 tablespoons chopped parsley']\n",
      "Original cell: ['1/3 cup store-bought green curry paste', '1 (13.5-ounce) can coconut milk', '3 cups water', 'Sea salt and cracked black pepper', '1 pound broccoli florets, chopped', '2 cups baby spinach leaves, plus more to serve', '2 cups cilantro leaves', '2 scallions, shredded', 'Store-bought crispy shallots or onions', 'to serve']\n",
      "Parsed ingredients: ['1/3 cup store-bought green curry paste', '1 (13.5-ounce) can coconut milk', '3 cups water', 'Sea salt and cracked black pepper', '1 pound broccoli florets, chopped', '2 cups baby spinach leaves, plus more to serve', '2 cups cilantro leaves', '2 scallions, shredded', 'Store-bought crispy shallots or onions', 'to serve']\n",
      "Original cell: ['1 finely grated garlic clove', '1/2 finely chopped anchovy fillet', '1/2 cup mayonnaise', '1/2 cup plain whole-milk yogurt', '1 tablespoon fresh lemon juice', 'Kosher salt and coarsely ground black pepper']\n",
      "Parsed ingredients: ['1 finely grated garlic clove', '1/2 finely chopped anchovy fillet', '1/2 cup mayonnaise', '1/2 cup plain whole-milk yogurt', '1 tablespoon fresh lemon juice', 'Kosher salt and coarsely ground black pepper']\n",
      "Original cell: ['2 tablespoons EVOO (extra-virgin olive oil)', '2 pounds ground turkey or chopped leftover turkey', 'Salt and pepper', '2 teaspoons poultry seasoning', '2 1/2 pounds sweet potatoes, peeled and cubed', '1 onion, peeled', '2 carrots, peeled', '4 celery stalks from the heart, chopped', '4 tablespoons (1/2 stick) butter', '2 tablespoons all-purpose flour', '2 cups turkey or chicken stock', 'A few dashes of Worcestershire sauce', '1 (10-ounce) box frozen peas', '1 very ripe banana, sliced', 'A few dashes of hot sauce', '2 cups shredded sharp yellow cheddar cheese']\n",
      "Parsed ingredients: ['2 tablespoons EVOO (extra-virgin olive oil)', '2 pounds ground turkey or chopped leftover turkey', 'Salt and pepper', '2 teaspoons poultry seasoning', '2 1/2 pounds sweet potatoes, peeled and cubed', '1 onion, peeled', '2 carrots, peeled', '4 celery stalks from the heart, chopped', '4 tablespoons (1/2 stick) butter', '2 tablespoons all-purpose flour', '2 cups turkey or chicken stock', 'A few dashes of Worcestershire sauce', '1 (10-ounce) box frozen peas', '1 very ripe banana, sliced', 'A few dashes of hot sauce', '2 cups shredded sharp yellow cheddar cheese']\n",
      "Original cell: ['2 1/4 cups London dry gin', '1 cup fresh lemon juice', '3/4 cup Grand Marnier', '4 large egg whites', '12 teaspoons orange marmalade']\n",
      "Parsed ingredients: ['2 1/4 cups London dry gin', '1 cup fresh lemon juice', '3/4 cup Grand Marnier', '4 large egg whites', '12 teaspoons orange marmalade']\n",
      "Original cell: ['2 ears of corn, husked', '1 teaspoon ancho chile powder', '1/2 lime, juiced', '2 tablespoons butter', 'Kosher salt and black pepper', 'Cilantro (optional), for garnish', 'Cotija cheese (optional)', 'for garnish']\n",
      "Parsed ingredients: ['2 ears of corn, husked', '1 teaspoon ancho chile powder', '1/2 lime, juiced', '2 tablespoons butter', 'Kosher salt and black pepper', 'Cilantro (optional), for garnish', 'Cotija cheese (optional)', 'for garnish']\n",
      "Original cell: ['1 cup buttermilk', '2 Tbsp. vegetable oil', '5 dried chiles de árbol, lightly crushed, seeds removed if desired', '4 curry leaves', '1 tsp. cumin seeds', '½ tsp. brown mustard seeds', 'Kosher salt', '1 bunch red and/or French Breakfast radishes, trimmed, thinly sliced', '3 heads of Little Gem lettuce, torn crosswise into 2\"-wide strips', '1 small cucumber, thinly sliced', '½ cup fresh English peas, sugar snap peas, and/or 1½\"-long pieces green and/or wax beans', '1 sprig mint, leaves torn', '2 Tbsp. finely chopped cilantro', 'Kosher salt (optional)']\n",
      "Parsed ingredients: ['1 cup buttermilk', '2 Tbsp. vegetable oil', '5 dried chiles de árbol, lightly crushed, seeds removed if desired', '4 curry leaves', '1 tsp. cumin seeds', '½ tsp. brown mustard seeds', 'Kosher salt', '1 bunch red and/or French Breakfast radishes, trimmed, thinly sliced', '3 heads of Little Gem lettuce, torn crosswise into 2\"-wide strips', '1 small cucumber, thinly sliced', '½ cup fresh English peas, sugar snap peas, and/or 1½\"-long pieces green and/or wax beans', '1 sprig mint, leaves torn', '2 Tbsp. finely chopped cilantro', 'Kosher salt (optional)']\n",
      "Original cell: ['2 slices rye bread or pumpernickel', '2 teaspoons butter, at room temperature', '\"2 tablespoons Reubens Russian Dressing\", 1/4 cup well-drained, fresh-style sauerkraut', '2 ounces thinly sliced Gruyère or Switzerland Swiss cheese', '1/4 pound thinly sliced corned beef']\n",
      "Parsed ingredients: ['2 slices rye bread or pumpernickel', '2 teaspoons butter, at room temperature', '\"2 tablespoons Reubens Russian Dressing\", 1/4 cup well-drained, fresh-style sauerkraut', '2 ounces thinly sliced Gruyère or Switzerland Swiss cheese', '1/4 pound thinly sliced corned beef']\n",
      "Original cell: ['2 1/2 teaspoons kosher salt', '1 teaspoon cayenne pepper', '1 teaspoon garlic powder', '1 teaspoon paprika', '1/2 teaspoon dried oregano', '1/2 teaspoon dried thyme', '1/2 teaspoon freshly ground black pepper', '1/2 teaspoon onion powder', 'Vegetable oil for frying', '1 1/2 pounds medium shrimp (about 36), peeled, deveined', '1 cup buttermilk', '1 1/2 cups all-purpose flour', '1 cup cornmeal', '4 8\"-long French rolls, split horizontally', 'Rémoulade Sauce or mayonnaise', 'Shredded iceberg lettuce', 'Sliced tomatoes', 'Dill pickles', 'Hot pepper sauce (optional)', 'preferably Crystal']\n",
      "Parsed ingredients: ['2 1/2 teaspoons kosher salt', '1 teaspoon cayenne pepper', '1 teaspoon garlic powder', '1 teaspoon paprika', '1/2 teaspoon dried oregano', '1/2 teaspoon dried thyme', '1/2 teaspoon freshly ground black pepper', '1/2 teaspoon onion powder', 'Vegetable oil for frying', '1 1/2 pounds medium shrimp (about 36), peeled, deveined', '1 cup buttermilk', '1 1/2 cups all-purpose flour', '1 cup cornmeal', '4 8\"-long French rolls, split horizontally', 'Rémoulade Sauce or mayonnaise', 'Shredded iceberg lettuce', 'Sliced tomatoes', 'Dill pickles', 'Hot pepper sauce (optional)', 'preferably Crystal']\n",
      "Original cell: ['2 tablespoons olive oil', '1/2 white onion, thinly sliced', '2 garlic cloves, thinly sliced', 'Kosher salt', '4 corn tortillas', '2 ounces Oaxacan cheese or fresh mozzarella, grated (about 1/2 cup)', '8 squash blossoms', 'stems and stamens removed']\n",
      "Parsed ingredients: ['2 tablespoons olive oil', '1/2 white onion, thinly sliced', '2 garlic cloves, thinly sliced', 'Kosher salt', '4 corn tortillas', '2 ounces Oaxacan cheese or fresh mozzarella, grated (about 1/2 cup)', '8 squash blossoms', 'stems and stamens removed']\n",
      "Original cell: ['5 cups 1/2-inch cubes crustless firm white bread (about 7 ounces)', '5 tablespoons butter', '4 cups chopped onions', '2 cups chopped celery', '4 cups small cubes peeled Granny Smith apples', '2 1/3 cups small cubes Black Forest ham', '2 tablespoons chopped fresh Italian parsley', '1 tablespoon minced fresh thyme', '1 tablespoon minced fresh sage', '1 tablespoon minced fresh marjoram', '1/2 teaspoon minced fresh rosemary', '1/4 teaspoon ground nutmeg', '1 1/4 cups low-salt chicken broth', '2 large eggs']\n",
      "Parsed ingredients: ['5 cups 1/2-inch cubes crustless firm white bread (about 7 ounces)', '5 tablespoons butter', '4 cups chopped onions', '2 cups chopped celery', '4 cups small cubes peeled Granny Smith apples', '2 1/3 cups small cubes Black Forest ham', '2 tablespoons chopped fresh Italian parsley', '1 tablespoon minced fresh thyme', '1 tablespoon minced fresh sage', '1 tablespoon minced fresh marjoram', '1/2 teaspoon minced fresh rosemary', '1/4 teaspoon ground nutmeg', '1 1/4 cups low-salt chicken broth', '2 large eggs']\n",
      "Original cell: ['1 tablespoon fresh cilantro root (4 roots), rinsed, scraped, and rinsed again', '1 tablespoon minced peeled fresh ginger', '1 fresh Thai bird chili, or more to taste', '1/2 teaspoon minced garlic', '1/2 teaspoon minced shallot', '2 tablespoons palm or brown sugar, or more to taste', '1 tablespoon fish sauce, or more to taste', 'Juice of 3 limes, or more to taste', '4 Chinese long beans, trimmed', '1 cup loosely packed fresh Thai basil leaves', '1 cup loosely packed fresh Vietnamese mint (rau ram) leaves', '2 cups julienned peeled green (unripe) papaya', '2 cups julienned peeled cucumber', '1 cup julienned peeled green (unripe) mango', '2 cups julienned peeled ripe mango', '\"3/4 cup 1/2-inch-thick pineapple batons (size of a ladys pinkie)\", 3/4 cup julienned fresh long red chilies, such as Anaheim or Hungarian Wax', '3/4 cup lightly crushed salted roasted peanuts']\n",
      "Parsed ingredients: ['1 tablespoon fresh cilantro root (4 roots), rinsed, scraped, and rinsed again', '1 tablespoon minced peeled fresh ginger', '1 fresh Thai bird chili, or more to taste', '1/2 teaspoon minced garlic', '1/2 teaspoon minced shallot', '2 tablespoons palm or brown sugar, or more to taste', '1 tablespoon fish sauce, or more to taste', 'Juice of 3 limes, or more to taste', '4 Chinese long beans, trimmed', '1 cup loosely packed fresh Thai basil leaves', '1 cup loosely packed fresh Vietnamese mint (rau ram) leaves', '2 cups julienned peeled green (unripe) papaya', '2 cups julienned peeled cucumber', '1 cup julienned peeled green (unripe) mango', '2 cups julienned peeled ripe mango', '\"3/4 cup 1/2-inch-thick pineapple batons (size of a ladys pinkie)\", 3/4 cup julienned fresh long red chilies, such as Anaheim or Hungarian Wax', '3/4 cup lightly crushed salted roasted peanuts']\n",
      "Original cell: ['1 cup uncooked instant polenta', '2/3 cup grated Parmesan, divided', '1/8–1/4 teaspoon cayenne pepper', 'Vegetable oil cooking spray', '2 cloves garlic, chopped', '2 tablespoon chopped fresh thyme (or oregano) or 1 tablespoon dried', 'cup fresh lemon juice', '1 tablespoon olive oil', '8 asparagus stalks, ends trimmed', '8 scallions, trimmed', '2 small Japanese or Italian eggplants, trimmed and halved', '1 medium-large yellow squash (about pound), cut into 1/3-inch-thick slices', '1 cup cherry tomatoes', '1 jar (12 ounces) prepared roasted red peppers, drained', '1/3 cup vegetable (or chicken) broth', '1 large clove garlic, chopped', '3 tablespoon chopped fresh chives, basil or parsley (plus extra for garnish)', '1 tablespoon balsamic vinegar']\n",
      "Parsed ingredients: ['1 cup uncooked instant polenta', '2/3 cup grated Parmesan, divided', '1/8–1/4 teaspoon cayenne pepper', 'Vegetable oil cooking spray', '2 cloves garlic, chopped', '2 tablespoon chopped fresh thyme (or oregano) or 1 tablespoon dried', 'cup fresh lemon juice', '1 tablespoon olive oil', '8 asparagus stalks, ends trimmed', '8 scallions, trimmed', '2 small Japanese or Italian eggplants, trimmed and halved', '1 medium-large yellow squash (about pound), cut into 1/3-inch-thick slices', '1 cup cherry tomatoes', '1 jar (12 ounces) prepared roasted red peppers, drained', '1/3 cup vegetable (or chicken) broth', '1 large clove garlic, chopped', '3 tablespoon chopped fresh chives, basil or parsley (plus extra for garnish)', '1 tablespoon balsamic vinegar']\n",
      "Original cell: ['1/4 cup (1/2 stick) butter, room temperature', '2 teaspoons chopped fresh parsley', '1 garlic clove, minced', '1/2 teaspoon ground mixed peppercorns, plus more for sprinkling', '1/2 teaspoon (packed) grated lemon peel', '1 tablespoon olive oil', '4 1-inch-thick swordfish fillets (about 6 ounces each)']\n",
      "Parsed ingredients: ['1/4 cup (1/2 stick) butter, room temperature', '2 teaspoons chopped fresh parsley', '1 garlic clove, minced', '1/2 teaspoon ground mixed peppercorns, plus more for sprinkling', '1/2 teaspoon (packed) grated lemon peel', '1 tablespoon olive oil', '4 1-inch-thick swordfish fillets (about 6 ounces each)']\n",
      "Original cell: ['4 cups fried tortilla strips', '2 cups Salsa Roja', '4 eggs', '2 cups shredded queso Oaxaca (or mozzarella or Jack cheese if unavailable)', '1/4 cup pickled jalapeños', '1 avocado, cut lengthwise into 1/4-inch-thick slices', '1/2 cup chipotle crema, Greek yogurt or labneh', '1/2 bunch cilantro, leaves', '1/2 lime', 'Pinch of sea salt']\n",
      "Parsed ingredients: ['4 cups fried tortilla strips', '2 cups Salsa Roja', '4 eggs', '2 cups shredded queso Oaxaca (or mozzarella or Jack cheese if unavailable)', '1/4 cup pickled jalapeños', '1 avocado, cut lengthwise into 1/4-inch-thick slices', '1/2 cup chipotle crema, Greek yogurt or labneh', '1/2 bunch cilantro, leaves', '1/2 lime', 'Pinch of sea salt']\n",
      "Original cell: ['4 tablespoons olive oil, divided', '2 skinless, boneless chicken thighs', 'Kosher salt', '3 large garlic cloves, minced', '2 tablespoons ground cumin', '2 tablespoons tomato paste', '3/4 teaspoon crushed red pepper flakes', '2 bay leaves', '2 15-ounce cans chickpeas, rinsed, drained', '1/2 cup chopped drained roasted red peppers from a jar', '2 tablespoons (or more) fresh lemon juice', '2 cups 1\" cubes country-style bread', '3 tablespoons coarsely chopped flat-leaf parsley']\n",
      "Parsed ingredients: ['4 tablespoons olive oil, divided', '2 skinless, boneless chicken thighs', 'Kosher salt', '3 large garlic cloves, minced', '2 tablespoons ground cumin', '2 tablespoons tomato paste', '3/4 teaspoon crushed red pepper flakes', '2 bay leaves', '2 15-ounce cans chickpeas, rinsed, drained', '1/2 cup chopped drained roasted red peppers from a jar', '2 tablespoons (or more) fresh lemon juice', '2 cups 1\" cubes country-style bread', '3 tablespoons coarsely chopped flat-leaf parsley']\n",
      "Original cell: ['12 thick slices smoked bacon', '2 cups heavy cream', '5 large eggs', 'coarse salt and freshly ground black pepper', '6 slices challah bread, at least 1 inch thick', '2 tbsp canola oil', '2 1/2 cups grated Gruyère cheese', '12 slices ripe tomatoes (about 3 small)', '6 cups arugula, cleaned', 'Roasted-Garlic Vinaigrette']\n",
      "Parsed ingredients: ['12 thick slices smoked bacon', '2 cups heavy cream', '5 large eggs', 'coarse salt and freshly ground black pepper', '6 slices challah bread, at least 1 inch thick', '2 tbsp canola oil', '2 1/2 cups grated Gruyère cheese', '12 slices ripe tomatoes (about 3 small)', '6 cups arugula, cleaned', 'Roasted-Garlic Vinaigrette']\n",
      "Original cell: ['3/4 cup all-purpose flour', '2 large eggs', '1 1/2 cups panko (Japanese breadcrumbs)', '1/4 cup grated Parmesan', '1 tablespoon mustard powder', 'Kosher salt, freshly ground pepper', '4 small skinless, boneless chicken cutlets (about 1 1/2 pounds total), pounded to 1/4\" thickness', '8 tablespoons olive oil, divided', '1 lemon', 'halved']\n",
      "Parsed ingredients: ['3/4 cup all-purpose flour', '2 large eggs', '1 1/2 cups panko (Japanese breadcrumbs)', '1/4 cup grated Parmesan', '1 tablespoon mustard powder', 'Kosher salt, freshly ground pepper', '4 small skinless, boneless chicken cutlets (about 1 1/2 pounds total), pounded to 1/4\" thickness', '8 tablespoons olive oil, divided', '1 lemon', 'halved']\n",
      "Original cell: ['1 teaspoon finely grated lemon zest', '1/4 cup (60ml) lemon juice', '2 tablespoons extra virgin olive oil', 'Sea salt and cracked black pepper', '300g (10.5 oz) baby spinach leaves', '\"Cheats Ricotta Gnocchi Dough\"']\n",
      "Parsed ingredients: ['1 teaspoon finely grated lemon zest', '1/4 cup (60ml) lemon juice', '2 tablespoons extra virgin olive oil', 'Sea salt and cracked black pepper', '300g (10.5 oz) baby spinach leaves', '\"Cheats Ricotta Gnocchi Dough\"']\n",
      "Original cell: ['3/4 cup (90 grams) white spelt or all-purpose flour', '1/4 cup (30 grams) ground millet or cake flour', '1 teaspoon baking powder', '1/2 teaspoon salt', '4 egg whites', '1/3 cup (66 grams) cane sugar', '2 tablespoons honey', '1/4 cup (2 ounces) water', '2 tablespoons safflower oil', '4 egg yolks', '1 teaspoon vanilla extract', '1 batch (about 1 cup) Snack Cake Crème']\n",
      "Parsed ingredients: ['3/4 cup (90 grams) white spelt or all-purpose flour', '1/4 cup (30 grams) ground millet or cake flour', '1 teaspoon baking powder', '1/2 teaspoon salt', '4 egg whites', '1/3 cup (66 grams) cane sugar', '2 tablespoons honey', '1/4 cup (2 ounces) water', '2 tablespoons safflower oil', '4 egg yolks', '1 teaspoon vanilla extract', '1 batch (about 1 cup) Snack Cake Crème']\n",
      "Original cell: ['1 cup fine fresh bread crumbs (preferably from a rustic loaf)', '1/2 cup whole milk', '3/4 cup finely chopped onion', '3 large garlic cloves, minced', '1 tablespoon olive oil', '1/2 pound chicken livers, separated into lobes, trimmed, and rinsed', '3/4 pound ground pork', '3/4 pound ground veal', '1/4 cup chopped prunes', '1/4 cup shelled pistachios', '2 teaspoons thyme leaves', '2 large eggs, lightly beaten', '1/3 cup chopped flat-leaf parsley', 'Accompaniment: Dijon mustard']\n",
      "Parsed ingredients: ['1 cup fine fresh bread crumbs (preferably from a rustic loaf)', '1/2 cup whole milk', '3/4 cup finely chopped onion', '3 large garlic cloves, minced', '1 tablespoon olive oil', '1/2 pound chicken livers, separated into lobes, trimmed, and rinsed', '3/4 pound ground pork', '3/4 pound ground veal', '1/4 cup chopped prunes', '1/4 cup shelled pistachios', '2 teaspoons thyme leaves', '2 large eggs, lightly beaten', '1/3 cup chopped flat-leaf parsley', 'Accompaniment: Dijon mustard']\n",
      "Original cell: ['4 Walla Walla (sweet) onions (about 1 lb each)', '1 cup coarse salt, for roasting', '½ cup extra virgin olive oil', '2 cups peeled, washed, and thinly sliced pine mushrooms', '¼ cup all-purpose flour', '2 cups Vegetable Stock', '½ cup heavy cream', 'Reserved chopped innards from onions', '2 tbsp. thyme leaves Kosher salt', 'Fresh-ground black pepper', '1 cup small torn pieces day- old Arctic Sourdough', '2 cups grated Gruyère-style cheese (we like Farm House Natural Cheeses Heidi)', '1 cup grated Gruyère-style cheese', 'Arctic Sourdough']\n",
      "Parsed ingredients: ['4 Walla Walla (sweet) onions (about 1 lb each)', '1 cup coarse salt, for roasting', '½ cup extra virgin olive oil', '2 cups peeled, washed, and thinly sliced pine mushrooms', '¼ cup all-purpose flour', '2 cups Vegetable Stock', '½ cup heavy cream', 'Reserved chopped innards from onions', '2 tbsp. thyme leaves Kosher salt', 'Fresh-ground black pepper', '1 cup small torn pieces day- old Arctic Sourdough', '2 cups grated Gruyère-style cheese (we like Farm House Natural Cheeses Heidi)', '1 cup grated Gruyère-style cheese', 'Arctic Sourdough']\n",
      "Original cell: ['1 (2 1/2–3-pound) jicama, peeled and cut into 1/8-inch sticks', '1 medium pomegranate, seeds removed', '1/2 red onion, sliced thinly', '1 cup loosely packed fresh cilantro, finely chopped', '1 cup loosely packed fresh mint, finely shredded', '1/2 cup extra virgin olive oil', '1/3 cup freshly squeezed lime juice', '2 tablespoons pomegranate molasses (optional)', '1/2 teaspoon sea salt']\n",
      "Parsed ingredients: ['1 (2 1/2–3-pound) jicama, peeled and cut into 1/8-inch sticks', '1 medium pomegranate, seeds removed', '1/2 red onion, sliced thinly', '1 cup loosely packed fresh cilantro, finely chopped', '1 cup loosely packed fresh mint, finely shredded', '1/2 cup extra virgin olive oil', '1/3 cup freshly squeezed lime juice', '2 tablespoons pomegranate molasses (optional)', '1/2 teaspoon sea salt']\n",
      "Original cell: ['2 tablespoons mustard seeds', '1/4 cup whole grain Dijon mustard', '1/4 cup dry white wine', '1/4 cup canola oil', '1/2 16-ounce loaf country white bread, crusts trimmed, bread diced', '1/3 cup fresh lemon juice', '1/3 cup whole grain Dijon mustard', '1 teaspoon finely grated lemon peel', '2/3 cup olive oil', '8 medium leeks, each cut to 6-inch lengths, root ends trimmed', '11/2 cups low-salt chicken broth', '2 tablespoons extra-virgin olive oil', '4 large fresh thyme sprigs', '1 large lemon, cut into very thin rounds', 'Chopped fresh Italian parsley', '16 ounces burrata cheese or fresh waterpacked mozzarella cheese', 'sliced']\n",
      "Parsed ingredients: ['2 tablespoons mustard seeds', '1/4 cup whole grain Dijon mustard', '1/4 cup dry white wine', '1/4 cup canola oil', '1/2 16-ounce loaf country white bread, crusts trimmed, bread diced', '1/3 cup fresh lemon juice', '1/3 cup whole grain Dijon mustard', '1 teaspoon finely grated lemon peel', '2/3 cup olive oil', '8 medium leeks, each cut to 6-inch lengths, root ends trimmed', '11/2 cups low-salt chicken broth', '2 tablespoons extra-virgin olive oil', '4 large fresh thyme sprigs', '1 large lemon, cut into very thin rounds', 'Chopped fresh Italian parsley', '16 ounces burrata cheese or fresh waterpacked mozzarella cheese', 'sliced']\n",
      "Original cell: ['2 cups/7 oz/200 g rolled oats', '1/2 cup/2 oz/60 g walnut pieces, toasted and chopped', '1/3 cup/2 oz/60 g natural cane sugar or maple syrup, plus more for serving', '1 teaspoon aluminum-free baking powder', '1 1/2 teaspoons ground cinnamon', 'Scant 1/2 teaspoon fine-grain sea salt', '2 cups/475 ml milk', '1 large egg', '3 tablespoons unsalted butter, melted and cooled slightly', '2 teaspoons pure vanilla extract', '2 ripe bananas, cut into 1/2-inch/1 cm pieces', '1 1/2 cups/6.5 oz/185 g huckleberries', 'blueberries', 'or mixed berries']\n",
      "Parsed ingredients: ['2 cups/7 oz/200 g rolled oats', '1/2 cup/2 oz/60 g walnut pieces, toasted and chopped', '1/3 cup/2 oz/60 g natural cane sugar or maple syrup, plus more for serving', '1 teaspoon aluminum-free baking powder', '1 1/2 teaspoons ground cinnamon', 'Scant 1/2 teaspoon fine-grain sea salt', '2 cups/475 ml milk', '1 large egg', '3 tablespoons unsalted butter, melted and cooled slightly', '2 teaspoons pure vanilla extract', '2 ripe bananas, cut into 1/2-inch/1 cm pieces', '1 1/2 cups/6.5 oz/185 g huckleberries', 'blueberries', 'or mixed berries']\n",
      "Original cell: ['8 garlic cloves, chopped', '120 g (4 1/4 oz) onions, halved and sliced into strips', '100 ml (3 1/2 fl oz/3/8 cup) Vegetable Stock', '600 g (1 lb 5 oz) pumpkin, peeled and cubed', '2 1/2 tbsp soy sauce', '2 tbsp oyster sauce', '1 1/2 tbsp honey', '4 handfuls Thai basil leaves, to garnish', '3 red chiles seeded and finely sliced', 'to garnish']\n",
      "Parsed ingredients: ['8 garlic cloves, chopped', '120 g (4 1/4 oz) onions, halved and sliced into strips', '100 ml (3 1/2 fl oz/3/8 cup) Vegetable Stock', '600 g (1 lb 5 oz) pumpkin, peeled and cubed', '2 1/2 tbsp soy sauce', '2 tbsp oyster sauce', '1 1/2 tbsp honey', '4 handfuls Thai basil leaves, to garnish', '3 red chiles seeded and finely sliced', 'to garnish']\n",
      "Original cell: ['1 1/2 pounds russet (baking) potatoes (3 medium), peeled and cut into 1-inch pieces', '2 teaspoons kosher salt', '1/2 cup whole milk', '3 tablespoons unsalted butter', '1/4 teaspoon freshly ground black pepper', '2 tablespoons bottled horseradish', 'drained']\n",
      "Parsed ingredients: ['1 1/2 pounds russet (baking) potatoes (3 medium), peeled and cut into 1-inch pieces', '2 teaspoons kosher salt', '1/2 cup whole milk', '3 tablespoons unsalted butter', '1/4 teaspoon freshly ground black pepper', '2 tablespoons bottled horseradish', 'drained']\n",
      "Original cell: ['4–6 large eggs', '5 Tbsp. unseasoned rice vinegar', '1 Tbsp. honey', '1 Tbsp. tamari or soy sauce', '1/2 tsp. kosher salt', '1/4 cup extra-virgin olive oil, plus more for drizzling', '1 bunch curly kale, stems removed, torn into bite-size pieces', '1 lb. brussels sprouts, trimmed, thinly sliced', '1 cup store-bought or homemade hummus', '1 cup Seedy Power Sprinkle', 'Flaky sea salt']\n",
      "Parsed ingredients: ['4–6 large eggs', '5 Tbsp. unseasoned rice vinegar', '1 Tbsp. honey', '1 Tbsp. tamari or soy sauce', '1/2 tsp. kosher salt', '1/4 cup extra-virgin olive oil, plus more for drizzling', '1 bunch curly kale, stems removed, torn into bite-size pieces', '1 lb. brussels sprouts, trimmed, thinly sliced', '1 cup store-bought or homemade hummus', '1 cup Seedy Power Sprinkle', 'Flaky sea salt']\n",
      "Original cell: ['1/3 cup balsamic vinegar', '3 tablespoons olive oil', '1 tablespoon Dijon mustard', '1 tablespoon chopped fresh marjoram or 1 teaspoon dried', '1 teaspoon minced garlic', '2 pounds asparagus, tough ends trimmed, cut on diagonal into 2-inch pieces', '1 small red bell pepper, diced', '1/3 cup chopped pecans', 'toasted']\n",
      "Parsed ingredients: ['1/3 cup balsamic vinegar', '3 tablespoons olive oil', '1 tablespoon Dijon mustard', '1 tablespoon chopped fresh marjoram or 1 teaspoon dried', '1 teaspoon minced garlic', '2 pounds asparagus, tough ends trimmed, cut on diagonal into 2-inch pieces', '1 small red bell pepper, diced', '1/3 cup chopped pecans', 'toasted']\n",
      "Original cell: ['1 pound gemelli or other corkscrew pasta', '1 (1-pound) bunch broccoli rabe, coarse stems discarded and remainder cut crosswise into 1-inch pieces', '1 cup panko (Japanese crisp bread crumbs)', '1/2 cup extra-virgin olive oil', '6 garlic cloves, coarsely chopped', '1 (2-ounce) can flat anchovy fillets, drained', '1/2 teaspoon dried hot red-pepper flakes', 'or to taste']\n",
      "Parsed ingredients: ['1 pound gemelli or other corkscrew pasta', '1 (1-pound) bunch broccoli rabe, coarse stems discarded and remainder cut crosswise into 1-inch pieces', '1 cup panko (Japanese crisp bread crumbs)', '1/2 cup extra-virgin olive oil', '6 garlic cloves, coarsely chopped', '1 (2-ounce) can flat anchovy fillets, drained', '1/2 teaspoon dried hot red-pepper flakes', 'or to taste']\n",
      "Original cell: ['1 (28-ounce) can diced tomatoes', '2 tablespoons extra-virgin olive oil, plus more for drizzling', '6 garlic cloves, thinly sliced', '1/2 cup dry white wine', '2 teaspoons chopped oregano', '1 teaspoon crushed red pepper flakes', '1 1/2 tsp. kosher salt, plus more', '8 ounces medium shell pasta', '1 large bunch of curly kale, stems removed, torn into bite-sized pieces (about 10 cups)', '1 1/2 pounds large shrimp, peeled, deveined', '2 1/2 ounces crumbled feta (about 1/2 cup)']\n",
      "Parsed ingredients: ['1 (28-ounce) can diced tomatoes', '2 tablespoons extra-virgin olive oil, plus more for drizzling', '6 garlic cloves, thinly sliced', '1/2 cup dry white wine', '2 teaspoons chopped oregano', '1 teaspoon crushed red pepper flakes', '1 1/2 tsp. kosher salt, plus more', '8 ounces medium shell pasta', '1 large bunch of curly kale, stems removed, torn into bite-sized pieces (about 10 cups)', '1 1/2 pounds large shrimp, peeled, deveined', '2 1/2 ounces crumbled feta (about 1/2 cup)']\n",
      "Original cell: ['1 Spanish onion', '1 tablespoon unsalted butter', '1 tablespoon fresh thyme leaves', 'Salt and freshly ground black pepper', '1 sheet frozen puff pastry', 'thawed according to package directions']\n",
      "Parsed ingredients: ['1 Spanish onion', '1 tablespoon unsalted butter', '1 tablespoon fresh thyme leaves', 'Salt and freshly ground black pepper', '1 sheet frozen puff pastry', 'thawed according to package directions']\n",
      "Original cell: ['2 pounds unpeeled red-skinned potatoes, rinsed, cut into 1- to 1 1/2-inch pieces', '10 tablespoons (1 1/4 sticks) butter', '3 garlic cloves, minced', '3/4 cup chopped chives (about 3 bunches)']\n",
      "Parsed ingredients: ['2 pounds unpeeled red-skinned potatoes, rinsed, cut into 1- to 1 1/2-inch pieces', '10 tablespoons (1 1/4 sticks) butter', '3 garlic cloves, minced', '3/4 cup chopped chives (about 3 bunches)']\n",
      "Original cell: ['1/2 cup hazelnuts (2 oz)', '1/4 cup plus 3 tablespoons sugar', '3/4 cup plus 2 tablespoons all-purpose flour', '1 stick (1/2 cup) cold unsalted butter', 'cut into small pieces']\n",
      "Parsed ingredients: ['1/2 cup hazelnuts (2 oz)', '1/4 cup plus 3 tablespoons sugar', '3/4 cup plus 2 tablespoons all-purpose flour', '1 stick (1/2 cup) cold unsalted butter', 'cut into small pieces']\n",
      "Original cell: ['3 medium shallots, thinly sliced into rings', '1/2 cup vegetable oil', 'Kosher salt', '1/2 cup sour cream', '3 Tbsp. Dijon mustard', '1 1/2 tsp. honey', 'Freshly ground black pepper', '3 Tbsp. extra-virgin olive oil', '2 medium onions, halved through root ends', '2 heads of garlic, halved crosswise', '2 small carrots, trimmed, scrubbed', '1/2 cup dry white wine', '2 1/2 lb. smoked ham hocks (about 4 medium)', '1 bunch of thyme, stems tied together with kitchen twine', '2 cups corona or gigante beans, soaked overnight, drained', 'Kosher salt, freshly ground pepper', 'Chopped cornichons and/or dill sprigs (for serving; optional)']\n",
      "Parsed ingredients: ['3 medium shallots, thinly sliced into rings', '1/2 cup vegetable oil', 'Kosher salt', '1/2 cup sour cream', '3 Tbsp. Dijon mustard', '1 1/2 tsp. honey', 'Freshly ground black pepper', '3 Tbsp. extra-virgin olive oil', '2 medium onions, halved through root ends', '2 heads of garlic, halved crosswise', '2 small carrots, trimmed, scrubbed', '1/2 cup dry white wine', '2 1/2 lb. smoked ham hocks (about 4 medium)', '1 bunch of thyme, stems tied together with kitchen twine', '2 cups corona or gigante beans, soaked overnight, drained', 'Kosher salt, freshly ground pepper', 'Chopped cornichons and/or dill sprigs (for serving; optional)']\n",
      "Original cell: ['1 cup (2 sticks) unsalted butter', '2 cups all-purpose flour', '1 tsp. baking soda', '1 tsp. kosher salt', '2 1/2 tsp. ground cardamom, divided', '2 tsp. ground cinnamon, divided', '1 cup (packed) light brown sugar', '1/2 cup granulated sugar, divided', '2 large eggs', '1 tsp. vanilla extract or paste', '2 Skor bars, finely chopped', '3 cups cornflakes, lightly crushed', 'Gold or rainbow disco or luster dust (for serving; optional)']\n",
      "Parsed ingredients: ['1 cup (2 sticks) unsalted butter', '2 cups all-purpose flour', '1 tsp. baking soda', '1 tsp. kosher salt', '2 1/2 tsp. ground cardamom, divided', '2 tsp. ground cinnamon, divided', '1 cup (packed) light brown sugar', '1/2 cup granulated sugar, divided', '2 large eggs', '1 tsp. vanilla extract or paste', '2 Skor bars, finely chopped', '3 cups cornflakes, lightly crushed', 'Gold or rainbow disco or luster dust (for serving; optional)']\n",
      "Original cell: ['2 cups Diamond Crystal or 1 cup Morton kosher salt', '1/2 cup sugar', '5 lemons', 'preferably organic', 'scrubbed']\n",
      "Parsed ingredients: ['2 cups Diamond Crystal or 1 cup Morton kosher salt', '1/2 cup sugar', '5 lemons', 'preferably organic', 'scrubbed']\n",
      "Original cell: ['1 1/2 pound small waxy potatoes, scrubbed', 'Kosher salt', '2 tablespoons olive oil', '1 1 1/2-pound piece skin-on salmon', '1 tablespoon olive oil, plus more for drizzling', 'Kosher salt', '1/2 cup crème fraîche', '2 tablespoons chopped fresh chives, dill, and/or tarragon, plus tarragon and dill sprigs for serving', '2 radishes', 'trimmed', 'thinly sliced']\n",
      "Parsed ingredients: ['1 1/2 pound small waxy potatoes, scrubbed', 'Kosher salt', '2 tablespoons olive oil', '1 1 1/2-pound piece skin-on salmon', '1 tablespoon olive oil, plus more for drizzling', 'Kosher salt', '1/2 cup crème fraîche', '2 tablespoons chopped fresh chives, dill, and/or tarragon, plus tarragon and dill sprigs for serving', '2 radishes', 'trimmed', 'thinly sliced']\n",
      "Original cell: ['2 tablespoons melted unsalted butter', '1/2 cup whole almonds', '1/2 cup store-bought or homemade candied orange peel', '1/2 cup dried apricots', '1/2 cup dried plums', '2 cups honey', '1 1/4 cups whole milk', '2 teaspoons kosher salt', '6 (3\") cinnamon sticks', '3 star anise pods', '3 cups all-purpose flour', '1 tablespoon plus 1 teaspoon baking powder', '1 tablespoon plus 1 teaspoon Reims N.39 spice mix', '2 teaspoons baking soda', '2 large eggs', '2 (9x5\") loaf pans']\n",
      "Parsed ingredients: ['2 tablespoons melted unsalted butter', '1/2 cup whole almonds', '1/2 cup store-bought or homemade candied orange peel', '1/2 cup dried apricots', '1/2 cup dried plums', '2 cups honey', '1 1/4 cups whole milk', '2 teaspoons kosher salt', '6 (3\") cinnamon sticks', '3 star anise pods', '3 cups all-purpose flour', '1 tablespoon plus 1 teaspoon baking powder', '1 tablespoon plus 1 teaspoon Reims N.39 spice mix', '2 teaspoons baking soda', '2 large eggs', '2 (9x5\") loaf pans']\n",
      "Original cell: ['2 cups cooked cranberry sauce (not jelly)', '1/4 cup cream Sherry (sweet)', '1/2 cup chilled heavy cream', '1/2 cup melted but cool vanilla ice cream', '1 1/2 cups cubed (1/2 inch) pound cake']\n",
      "Parsed ingredients: ['2 cups cooked cranberry sauce (not jelly)', '1/4 cup cream Sherry (sweet)', '1/2 cup chilled heavy cream', '1/2 cup melted but cool vanilla ice cream', '1 1/2 cups cubed (1/2 inch) pound cake']\n",
      "Original cell: ['1 cup labneh', '1 cup roasted grated beets', '1/4 cup peeled, seeded, and minced Persian (mini) cucumber', '1 garlic clove, finely grated', '1/4 cup chopped fresh dill', '6 leaves fresh mint, chopped', '2 tablespoons fresh lemon juice', '1 teaspoon sea salt', '1 teaspoon freshly cracked black pepper', '1 cup Beet Tzatziki', '2 hard-boiled eggs, peeled and quartered', '1 yellow heirloom tomato, finely diced', '1 Persian (mini) cucumber, finely diced', '1/2 teaspoon red chile flakes', '2 radishes, sliced into very thin rounds', '1 teaspoon poppy seeds', '1 cup equal parts torn fresh flat-leaf parsley leaves, dill fronds, and mint leaves, plus extra for garnish', '2 tablespoons buttermilk', 'Sea salt', '1 cup Pickled Beets; reserve a little liquid for garnish', 'Pinch of ground sumac, for garnish', 'Extra-virgin olive oil', 'for garnish']\n",
      "Parsed ingredients: ['1 cup labneh', '1 cup roasted grated beets', '1/4 cup peeled, seeded, and minced Persian (mini) cucumber', '1 garlic clove, finely grated', '1/4 cup chopped fresh dill', '6 leaves fresh mint, chopped', '2 tablespoons fresh lemon juice', '1 teaspoon sea salt', '1 teaspoon freshly cracked black pepper', '1 cup Beet Tzatziki', '2 hard-boiled eggs, peeled and quartered', '1 yellow heirloom tomato, finely diced', '1 Persian (mini) cucumber, finely diced', '1/2 teaspoon red chile flakes', '2 radishes, sliced into very thin rounds', '1 teaspoon poppy seeds', '1 cup equal parts torn fresh flat-leaf parsley leaves, dill fronds, and mint leaves, plus extra for garnish', '2 tablespoons buttermilk', 'Sea salt', '1 cup Pickled Beets; reserve a little liquid for garnish', 'Pinch of ground sumac, for garnish', 'Extra-virgin olive oil', 'for garnish']\n"
     ]
    }
   ],
   "source": [
    "df[\"Standardized_Cleaned_Ingredients\"] = df[\"Cleaned_Ingredients\"].apply(convert_and_standardize)\n"
   ]
  },
  {
   "cell_type": "code",
   "execution_count": 8,
   "metadata": {},
   "outputs": [],
   "source": [
    "df.to_csv(\"ingredients_standardized.csv\", index=False)"
   ]
  },
  {
   "cell_type": "code",
   "execution_count": 9,
   "metadata": {},
   "outputs": [],
   "source": [
    "# cleaned_ingredients = [\n",
    "#     \"kosher salt\", \n",
    "#     \"coarse salt\", \n",
    "#     \"sea salt\", \n",
    "#     \"fresh basil\", \n",
    "#     \"green bell pepper\", \n",
    "#     \"chicken breast\",\n",
    "#     \"dried oregano\"\n",
    "# ]\n",
    "\n",
    "# standardized = [standardize_ingredient_spacy(ing) for ing in cleaned_ingredients]\n",
    "# print(standardized)"
   ]
  }
 ],
 "metadata": {
  "kernelspec": {
   "display_name": "liveAI",
   "language": "python",
   "name": "python3"
  },
  "language_info": {
   "codemirror_mode": {
    "name": "ipython",
    "version": 3
   },
   "file_extension": ".py",
   "mimetype": "text/x-python",
   "name": "python",
   "nbconvert_exporter": "python",
   "pygments_lexer": "ipython3",
   "version": "3.9.21"
  }
 },
 "nbformat": 4,
 "nbformat_minor": 2
}

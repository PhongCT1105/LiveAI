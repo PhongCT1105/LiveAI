{
 "cells": [
  {
   "cell_type": "code",
   "execution_count": 10,
   "metadata": {},
   "outputs": [
    {
     "name": "stdout",
     "output_type": "stream",
     "text": [
      "Copied 50/50 images to Selected_Food_Images\n"
     ]
    }
   ],
   "source": [
    "import pandas as pd\n",
    "import os\n",
    "import shutil\n",
    "\n",
    "# Load the subset of 50 selected recipes\n",
    "subset_file_path = \"subset_50_recipes.csv\"\n",
    "df_subset = pd.read_csv(subset_file_path)\n",
    "\n",
    "# Define the image source and destination paths\n",
    "image_source_folder = \"Food Images/Food Images\"  # Local folder where images are stored\n",
    "image_dest_folder = \"Selected_Food_Images\"  # Local folder to store selected images\n",
    "\n",
    "# Ensure the destination folder exists\n",
    "os.makedirs(image_dest_folder, exist_ok=True)\n",
    "\n",
    "# Step 1: Get a list of all available image files\n",
    "available_images = set(os.listdir(image_source_folder))  # Store all filenames\n",
    "\n",
    "# Step 2: Track copied images\n",
    "copied_count = 0\n",
    "\n",
    "# Step 3: Copy images that match selected recipes\n",
    "for image_name in df_subset[\"Image_Name\"].astype(str):\n",
    "    # Find matching images with any extension\n",
    "    possible_files = [f for f in available_images if f.startswith(image_name)]\n",
    "    \n",
    "    if possible_files:\n",
    "        image_path = os.path.join(image_source_folder, possible_files[0])  # Pick the first match\n",
    "        shutil.copy(image_path, image_dest_folder)\n",
    "        copied_count += 1\n",
    "\n",
    "print(f\"Copied {copied_count}/{len(df_subset)} images to {image_dest_folder}\")\n"
   ]
  },
  {
   "cell_type": "code",
   "execution_count": 9,
   "metadata": {},
   "outputs": [
    {
     "name": "stdout",
     "output_type": "stream",
     "text": [
      "Missing images: {'leeks-vinaigrette-with-burrata-cheese-and-mustard-243439', 'vanilla-snack-cakes-51123660', 'garlicky-mayonnaise-51175310', 'french-toast-blt-with-roasted-garlic-vinaigrette-366329', 'hawaij', 'warm-onion-tart-with-thyme-363302', 'polenta-and-vegetables-with-roasted-red-pepper-sauce-241484', 'chickpea-stew-388656', 'apple-frangipane-galette-363437', 'hazelnut-cookies-109469', 'turkey-sweet-potato-shepherds-pie-363344', 'roasted-salmon-with-potatoes-and-herbed-creme-fraiche-51236440', 'ancho-chile-rubbed-grilled-corn', 'turkey-cream-puff-pie-232982', 'winter-salad-hummus-bowls', 'chive-and-garlic-mashed-potatoes-231740', 'rustic-french-meatloaf-352292', 'little-gem-salad-with-buttermilk-chaas', 'greek-style-shrimp-pasta-with-kale', 'spiced-fritters-with-maple-vanilla-syrup-231315', 'jicama-and-pomegranate-slaw', 'eggplant-omelet-tortang-talong', 'blue-cheese-dip-366409', 'maple-cake-with-maple-syrup-frosting-358216', 'gemelli-with-broccoli-rabe-and-anchovies-236944', 'french-spiced-bread', 'pan-roasted-swordfish-steaks-with-mixed-peppercorn-butter-232695', 'thai-coconut-broccoli-and-coriander-soup-56390092', 'egg-shop-chilaquiles', 'my-green-papaya-salad-395609', 'ham-hock-and-white-bean-stew', 'asparagus-salad-with-sweet-balsamic-vinegar-4807', 'peppery-horseradish-mashed-potatoes-388550', 'shrimp-poboy-365820', 'quesadillas-with-oaxacan-cheese-and-squash-blossoms', 'stir-fried-pumpkin-with-chiles-and-basil-em-fakthong-pad-bai-horapa-em-355269', 'reuben-sandwich-231677', 'snickerdoodle-party-cookies', 'pork-cassoulet-240817', 'walla-walla-onion-pine-mushroom-fonduta', 'preserved-lemons', 'honey-mustard-chicken-sausage-kebabs-353417', 'eel-with-olives-chiles-and-capers-em-anguilla-livernese-em-350725', 'parmesan-chicken-cutlets-51149010', 'baked-oatmeal-365069', 'quick-cranberry-trifles-233026', 'apple-celery-and-smoked-ham-stuffing-108823', 'roasted-beet-tzatziki-salad', 'simple-spinach-and-ricotta-gnocchi-donna-hay', 'autumn-gin-sour-51193080'}\n"
     ]
    }
   ],
   "source": [
    "expected_images = set(df_subset[\"Image_Name\"].astype(str))\n",
    "missing_images = expected_images - {img.split(\".\")[0] for img in available_images}\n",
    "print(f\"Missing images: {missing_images}\")\n"
   ]
  }
 ],
 "metadata": {
  "kernelspec": {
   "display_name": "Python 3",
   "language": "python",
   "name": "python3"
  },
  "language_info": {
   "codemirror_mode": {
    "name": "ipython",
    "version": 3
   },
   "file_extension": ".py",
   "mimetype": "text/x-python",
   "name": "python",
   "nbconvert_exporter": "python",
   "pygments_lexer": "ipython3",
   "version": "3.12.0"
  }
 },
 "nbformat": 4,
 "nbformat_minor": 2
}
